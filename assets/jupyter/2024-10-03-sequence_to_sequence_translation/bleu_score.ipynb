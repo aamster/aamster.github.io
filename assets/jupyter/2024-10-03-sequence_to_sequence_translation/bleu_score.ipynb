{
 "cells": [
  {
   "cell_type": "code",
   "execution_count": 1,
   "id": "initial_id",
   "metadata": {
    "collapsed": true,
    "ExecuteTime": {
     "end_time": "2024-10-13T12:20:09.738458Z",
     "start_time": "2024-10-13T12:19:37.606303Z"
    }
   },
   "outputs": [],
   "source": [
    "import evaluate"
   ]
  },
  {
   "cell_type": "code",
   "outputs": [
    {
     "data": {
      "text/plain": "{'bleu': 0.4723665527410147,\n 'precisions': [1.0, 1.0, 1.0, 1.0],\n 'brevity_penalty': 0.4723665527410147,\n 'length_ratio': 0.5714285714285714,\n 'translation_length': 4,\n 'reference_length': 7}"
     },
     "execution_count": 2,
     "metadata": {},
     "output_type": "execute_result"
    }
   ],
   "source": [
    "predictions = [\"I have socks.\"]\n",
    "\n",
    "references = [\n",
    "    [\"In my dresser I have socks.\"],\n",
    "]\n",
    "\n",
    "bleu = evaluate.load(\"bleu\")\n",
    "results = bleu.compute(predictions=predictions, references=references)\n",
    "results"
   ],
   "metadata": {
    "collapsed": false,
    "ExecuteTime": {
     "end_time": "2024-10-13T12:20:20.279318Z",
     "start_time": "2024-10-13T12:20:17.957010Z"
    }
   },
   "id": "c650cc1cf7329553",
   "execution_count": 2
  }
 ],
 "metadata": {
  "kernelspec": {
   "display_name": "Python 3",
   "language": "python",
   "name": "python3"
  },
  "language_info": {
   "codemirror_mode": {
    "name": "ipython",
    "version": 2
   },
   "file_extension": ".py",
   "mimetype": "text/x-python",
   "name": "python",
   "nbconvert_exporter": "python",
   "pygments_lexer": "ipython2",
   "version": "2.7.6"
  }
 },
 "nbformat": 4,
 "nbformat_minor": 5
}
