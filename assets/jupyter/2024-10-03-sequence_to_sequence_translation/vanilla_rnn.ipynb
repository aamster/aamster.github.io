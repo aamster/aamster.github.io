{
 "cells": [
  {
   "cell_type": "code",
   "execution_count": 1,
   "id": "initial_id",
   "metadata": {
    "collapsed": true,
    "ExecuteTime": {
     "end_time": "2024-10-09T12:03:49.801493Z",
     "start_time": "2024-10-09T12:03:20.933384Z"
    }
   },
   "outputs": [],
   "source": [
    "import torch"
   ]
  },
  {
   "cell_type": "code",
   "outputs": [],
   "source": [
    "class VanillaRNN:\n",
    "    def __init__(self):\n",
    "        self._initial_state = torch.zeros(3)\n",
    "        self.Wxh = torch.nn.Linear(in_features=2, out_features=3)\n",
    "        self.Whh = torch.nn.Linear(in_features=3, out_features=3)\n",
    "        self.embedding = torch.nn.Embedding(num_embeddings=4, embedding_dim=2)\n",
    "\n",
    "    def forward(self, seq):\n",
    "        h_t = self._initial_state\n",
    "        outs = []\n",
    "        for x_t in seq:\n",
    "            x_t = self.embedding(torch.tensor(x_t))\n",
    "            h_t = self._f(h_t, x_t)\n",
    "            outs.append(h_t)\n",
    "        outs = torch.stack(outs)\n",
    "        return outs, h_t\n",
    "\n",
    "    def _f(self, h_t: torch.tensor, x_t: torch.tensor):\n",
    "        return torch.tanh(self.Wxh(x_t) + self.Whh(h_t))"
   ],
   "metadata": {
    "collapsed": false,
    "ExecuteTime": {
     "end_time": "2024-10-09T12:03:52.851623Z",
     "start_time": "2024-10-09T12:03:52.845849Z"
    }
   },
   "id": "193b855e66f60799",
   "execution_count": 2
  },
  {
   "cell_type": "code",
   "outputs": [],
   "source": [
    "torch.random.manual_seed(1234)\n",
    "\n",
    "with torch.no_grad():\n",
    "    rnn = VanillaRNN()\n",
    "    vocab = {'I': 0, 'have': 1, 'socks': 2, '.': 3}\n",
    "    outs, h_t = rnn.forward(seq=[vocab[x] for x in ['I', 'have', 'socks', '.']])"
   ],
   "metadata": {
    "collapsed": false,
    "ExecuteTime": {
     "end_time": "2024-10-09T12:04:11.960552Z",
     "start_time": "2024-10-09T12:04:11.929158Z"
    }
   },
   "id": "da007cf2c4173486",
   "execution_count": 3
  },
  {
   "cell_type": "code",
   "outputs": [
    {
     "data": {
      "text/plain": "tensor([[-0.6570,  0.2775,  0.4972],\n        [-0.9238, -0.3656, -0.7586],\n        [-0.8673, -0.3682,  0.3496],\n        [-0.2447,  0.0817,  0.6288]])"
     },
     "execution_count": 4,
     "metadata": {},
     "output_type": "execute_result"
    }
   ],
   "source": [
    "outs"
   ],
   "metadata": {
    "collapsed": false,
    "ExecuteTime": {
     "end_time": "2024-10-09T12:04:23.261005Z",
     "start_time": "2024-10-09T12:04:23.250572Z"
    }
   },
   "id": "1bb001f16a73ddf1",
   "execution_count": 4
  },
  {
   "cell_type": "code",
   "outputs": [
    {
     "data": {
      "text/plain": "tensor([-0.2447,  0.0817,  0.6288])"
     },
     "execution_count": 5,
     "metadata": {},
     "output_type": "execute_result"
    }
   ],
   "source": [
    "h_t"
   ],
   "metadata": {
    "collapsed": false,
    "ExecuteTime": {
     "end_time": "2024-10-09T12:04:27.433752Z",
     "start_time": "2024-10-09T12:04:27.428531Z"
    }
   },
   "id": "401961282c58de76",
   "execution_count": 5
  }
 ],
 "metadata": {
  "kernelspec": {
   "display_name": "Python 3",
   "language": "python",
   "name": "python3"
  },
  "language_info": {
   "codemirror_mode": {
    "name": "ipython",
    "version": 2
   },
   "file_extension": ".py",
   "mimetype": "text/x-python",
   "name": "python",
   "nbconvert_exporter": "python",
   "pygments_lexer": "ipython2",
   "version": "2.7.6"
  }
 },
 "nbformat": 4,
 "nbformat_minor": 5
}
